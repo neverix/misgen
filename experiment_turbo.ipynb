{
 "cells": [
  {
   "cell_type": "code",
   "execution_count": 41,
   "metadata": {},
   "outputs": [],
   "source": [
    "%load_ext autoreload\n",
    "%autoreload 2"
   ]
  },
  {
   "cell_type": "code",
   "execution_count": 49,
   "metadata": {},
   "outputs": [
    {
     "name": "stdout",
     "output_type": "stream",
     "text": [
      "\n",
      "\u001b[1m[\u001b[0m\u001b[34;49mnotice\u001b[0m\u001b[1;39;49m]\u001b[0m\u001b[39;49m A new release of pip is available: \u001b[0m\u001b[31;49m23.2.1\u001b[0m\u001b[39;49m -> \u001b[0m\u001b[32;49m23.3.2\u001b[0m\n",
      "\u001b[1m[\u001b[0m\u001b[34;49mnotice\u001b[0m\u001b[1;39;49m]\u001b[0m\u001b[39;49m To update, run: \u001b[0m\u001b[32;49mpip install --upgrade pip\u001b[0m\n",
      "Note: you may need to restart the kernel to use updated packages.\n"
     ]
    }
   ],
   "source": [
    "# %pip install -q matplotlib"
   ]
  },
  {
   "cell_type": "code",
   "execution_count": 2,
   "metadata": {},
   "outputs": [
    {
     "name": "stdout",
     "output_type": "stream",
     "text": [
      "\u001b[33mWARNING: Skipping diffusers as it is not installed.\u001b[0m\n",
      "Note: you may need to restart the kernel to use updated packages.\n",
      "Collecting git+https://github.com/neverix/diffusers@patch-4\n",
      "  Cloning https://github.com/neverix/diffusers (to revision patch-4) to /tmp/pip-req-build-9kax1u0n\n",
      "  Running command git clone -q https://github.com/neverix/diffusers /tmp/pip-req-build-9kax1u0n\n",
      "  Running command git checkout -b patch-4 --track origin/patch-4\n",
      "  Switched to a new branch 'patch-4'\n",
      "  Branch 'patch-4' set up to track remote branch 'patch-4' from 'origin'.\n",
      "  Installing build dependencies ... \u001b[?25ldone\n",
      "\u001b[?25h  Getting requirements to build wheel ... \u001b[?25ldone\n",
      "\u001b[?25h    Preparing wheel metadata ... \u001b[?25ldone\n",
      "\u001b[?25hRequirement already satisfied: numpy in /usr/local/lib/python3.8/dist-packages (from diffusers==0.25.0.dev0) (1.24.2)\n",
      "Requirement already satisfied: importlib-metadata in /home/neverix/.local/lib/python3.8/site-packages (from diffusers==0.25.0.dev0) (7.0.1)\n",
      "Collecting safetensors>=0.3.1\n",
      "  Downloading safetensors-0.4.1-cp38-cp38-manylinux_2_17_x86_64.manylinux2014_x86_64.whl (1.3 MB)\n",
      "\u001b[K     |████████████████████████████████| 1.3 MB 14.1 MB/s eta 0:00:01\n",
      "\u001b[?25hCollecting huggingface-hub>=0.19.4\n",
      "  Downloading huggingface_hub-0.20.2-py3-none-any.whl (330 kB)\n",
      "\u001b[K     |████████████████████████████████| 330 kB 109.4 MB/s eta 0:00:01\n",
      "\u001b[?25hCollecting regex!=2019.12.17\n",
      "  Downloading regex-2023.12.25-cp38-cp38-manylinux_2_17_x86_64.manylinux2014_x86_64.whl (777 kB)\n",
      "\u001b[K     |████████████████████████████████| 777 kB 93.9 MB/s eta 0:00:01\n",
      "\u001b[?25hRequirement already satisfied: filelock in /usr/local/lib/python3.8/dist-packages (from diffusers==0.25.0.dev0) (3.7.1)\n",
      "Requirement already satisfied: requests in /usr/local/lib/python3.8/dist-packages (from diffusers==0.25.0.dev0) (2.27.1)\n",
      "Requirement already satisfied: Pillow in /usr/local/lib/python3.8/dist-packages (from diffusers==0.25.0.dev0) (9.4.0)\n",
      "Requirement already satisfied: zipp>=0.5 in /usr/lib/python3/dist-packages (from importlib-metadata->diffusers==0.25.0.dev0) (1.0.0)\n",
      "Requirement already satisfied: typing-extensions>=3.7.4.3 in /usr/local/lib/python3.8/dist-packages (from huggingface-hub>=0.19.4->diffusers==0.25.0.dev0) (4.5.0)\n",
      "Collecting fsspec>=2023.5.0\n",
      "  Downloading fsspec-2023.12.2-py3-none-any.whl (168 kB)\n",
      "\u001b[K     |████████████████████████████████| 168 kB 110.2 MB/s eta 0:00:01\n",
      "\u001b[?25hRequirement already satisfied: pyyaml>=5.1 in /usr/local/lib/python3.8/dist-packages (from huggingface-hub>=0.19.4->diffusers==0.25.0.dev0) (5.4.1)\n",
      "Collecting packaging>=20.9\n",
      "  Using cached packaging-23.2-py3-none-any.whl (53 kB)\n",
      "Collecting tqdm>=4.42.1\n",
      "  Using cached tqdm-4.66.1-py3-none-any.whl (78 kB)\n",
      "Requirement already satisfied: charset-normalizer~=2.0.0; python_version >= \"3\" in /usr/local/lib/python3.8/dist-packages (from requests->diffusers==0.25.0.dev0) (2.0.12)\n",
      "Requirement already satisfied: idna<4,>=2.5; python_version >= \"3\" in /usr/lib/python3/dist-packages (from requests->diffusers==0.25.0.dev0) (2.8)\n",
      "Requirement already satisfied: urllib3<1.27,>=1.21.1 in /usr/lib/python3/dist-packages (from requests->diffusers==0.25.0.dev0) (1.25.8)\n",
      "Requirement already satisfied: certifi>=2017.4.17 in /usr/lib/python3/dist-packages (from requests->diffusers==0.25.0.dev0) (2019.11.28)\n",
      "Building wheels for collected packages: diffusers\n",
      "  Building wheel for diffusers (PEP 517) ... \u001b[?25ldone\n",
      "\u001b[?25h  Created wheel for diffusers: filename=diffusers-0.25.0.dev0-py3-none-any.whl size=1767466 sha256=590fb95194453d8703b24e9247bdd99c0575ebaeaea9ecc53dc6da4f30a4a103\n",
      "  Stored in directory: /tmp/pip-ephem-wheel-cache-nzano1au/wheels/fa/7c/3f/af8c7ee6530c64e1a5250b0bf17ad2f3971bb1ca1644f12c89\n",
      "Successfully built diffusers\n",
      "Installing collected packages: safetensors, fsspec, packaging, tqdm, huggingface-hub, regex, diffusers\n",
      "Successfully installed diffusers-0.25.0.dev0 fsspec-2023.12.2 huggingface-hub-0.20.2 packaging-23.2 regex-2023.12.25 safetensors-0.4.1 tqdm-4.66.1\n",
      "Note: you may need to restart the kernel to use updated packages.\n"
     ]
    }
   ],
   "source": [
    "# %pip uninstall --yes diffusers\n",
    "# %pip install git+https://github.com/neverix/diffusers@patch-4"
   ]
  },
  {
   "cell_type": "code",
   "execution_count": 3,
   "metadata": {},
   "outputs": [],
   "source": [
    "# !rm -rf ~/.cache/huggingface/hub\n",
    "# !rm -rf cache"
   ]
  },
  {
   "cell_type": "code",
   "execution_count": 4,
   "metadata": {},
   "outputs": [],
   "source": [
    "# !mkdir -p cache\n",
    "# !cd cache && GIT_LFS_SKIP_SMUDGE=1 git clone https://huggingface.co/stabilityai/stable-diffusion-xl-base-1.0 --depth=1\n",
    "# !cd cache/stable-diffusion-xl-base-1.0 && git lfs pull --include '*.msgpack' && git lfs pull --include '*.model' && git lfs pull --include '*.json'"
   ]
  },
  {
   "cell_type": "code",
   "execution_count": 1,
   "metadata": {},
   "outputs": [
    {
     "name": "stderr",
     "output_type": "stream",
     "text": [
      "/home/neverix/.pyenv/versions/3.12.0/lib/python3.12/site-packages/tqdm/auto.py:21: TqdmWarning: IProgress not found. Please update jupyter and ipywidgets. See https://ipywidgets.readthedocs.io/en/stable/user_install.html\n",
      "  from .autonotebook import tqdm as notebook_tqdm\n",
      "Fetching 18 files: 100%|██████████| 18/18 [00:00<00:00, 94371.84it/s]\n"
     ]
    }
   ],
   "source": [
    "from diffusers import FlaxStableDiffusionXLPipeline\n",
    "import jax.numpy as jnp\n",
    "\n",
    "\n",
    "dtype = jnp.bfloat16\n",
    "pipe, params = FlaxStableDiffusionXLPipeline.from_pretrained(\n",
    "    # \"nev/\n",
    "    # lcm-sdxl-flax\",\n",
    "    # \"nev/lcm-sdxl-pt\",\n",
    "    # \"nev/sdxl-turbo-pt\",\n",
    "    # \"stabilityai/stable-diffusion-xl-base-1.0\",\n",
    "    # \"cache/stable-diffusion-xl-base-1.0\",\n",
    "    # \"pcuenq/stable-diffusion-xl-base-1.0-flax\",\n",
    "    # \"stabilityai/sdxl-turbo\",\n",
    "    from_pt=True,\n",
    "    dtype=jnp.float32\n",
    ")"
   ]
  },
  {
   "cell_type": "code",
   "execution_count": 3,
   "metadata": {},
   "outputs": [
    {
     "name": "stdout",
     "output_type": "stream",
     "text": [
      "[TpuDevice(id=0, process_index=0, coords=(0,0,0), core_on_chip=0), TpuDevice(id=1, process_index=0, coords=(0,0,0), core_on_chip=1), TpuDevice(id=2, process_index=0, coords=(1,0,0), core_on_chip=0), TpuDevice(id=3, process_index=0, coords=(1,0,0), core_on_chip=1), TpuDevice(id=4, process_index=0, coords=(0,1,0), core_on_chip=0), TpuDevice(id=5, process_index=0, coords=(0,1,0), core_on_chip=1), TpuDevice(id=6, process_index=0, coords=(1,1,0), core_on_chip=0), TpuDevice(id=7, process_index=0, coords=(1,1,0), core_on_chip=1)]\n"
     ]
    }
   ],
   "source": [
    "import jax\n",
    "print(jax.devices())"
   ]
  },
  {
   "cell_type": "code",
   "execution_count": 15,
   "metadata": {},
   "outputs": [
    {
     "name": "stderr",
     "output_type": "stream",
     "text": [
      "vae/config.json: 100%|██████████| 642/642 [00:00<00:00, 2.74MB/s]\n",
      "diffusion_flax_model.msgpack: 100%|██████████| 335M/335M [00:02<00:00, 149MB/s] \n"
     ]
    }
   ],
   "source": [
    "from diffusers import FlaxEulerDiscreteScheduler, FlaxAutoencoderKL\n",
    "_, scheduler_state = FlaxEulerDiscreteScheduler.from_pretrained(\n",
    "    \"stabilityai/stable-diffusion-xl-base-1.0\",\n",
    "    subfolder=\"scheduler\"  # mad at them for not calling it scheuler\n",
    ")\n",
    "_, vae_state = FlaxAutoencoderKL.from_pretrained(\n",
    "    \"stabilityai/stable-diffusion-xl-base-1.0\",\n",
    "    subfolder=\"vae\"\n",
    ")"
   ]
  },
  {
   "cell_type": "code",
   "execution_count": 16,
   "metadata": {},
   "outputs": [],
   "source": [
    "# scheduler_state = params.pop(\"scheduler\")\n",
    "# vae_state = params.pop(\"vae\")\n",
    "params = jax.tree_util.tree_map(lambda x: x.astype(dtype), params)\n",
    "params[\"scheduler\"] = scheduler_state\n",
    "params[\"vae\"] = vae_state"
   ]
  },
  {
   "cell_type": "code",
   "execution_count": 17,
   "metadata": {},
   "outputs": [],
   "source": [
    "from flax.training.common_utils import shard\n",
    "from flax.jax_utils import replicate\n",
    "import numpy as np\n",
    "\n",
    "\n",
    "p_params = replicate(params)\n",
    "\n",
    "def create_key(seed=0):\n",
    "    return jax.random.PRNGKey(seed)\n",
    "\n",
    "rng = create_key(0)\n",
    "rng = jax.random.split(rng, jax.device_count())\n",
    "\n",
    "do_jit = True\n",
    "\n",
    "# def generate(prompt_ids, neg_prompt_ids):\n",
    "#     images = pipe(\n",
    "#         prompt_ids if do_jit else prompt_ids[0],\n",
    "#         p_params if do_jit else params,\n",
    "#         rng if do_jit else rng[0],\n",
    "#         num_inference_steps=1,\n",
    "#         # neg_prompt_ids=neg_prompt_ids if do_jit else neg_prompt_ids[0],\n",
    "#         guidance_scale = 1.0,\n",
    "#         jit=do_jit,\n",
    "#     ).images\n",
    "#     images = images.reshape((images.shape[0] * images.shape[1], ) + images.shape[-3:])\n",
    "#     return pipe.numpy_to_pil(np.array(images))"
   ]
  },
  {
   "cell_type": "code",
   "execution_count": 18,
   "metadata": {},
   "outputs": [],
   "source": [
    "imgs_per_device = 1\n",
    "\n",
    "prompt = \"a cat\"\n",
    "prompts = [prompt] * jax.device_count() * imgs_per_device\n",
    "prompt_ids = pipe.prepare_inputs(prompts)\n",
    "prompt_ids = shard(prompt_ids)\n",
    "\n",
    "# neg_prompt = \"misshapen\"\n",
    "# neg_prompts = [neg_prompt] * jax.device_count() * imgs_per_device\n",
    "# neg_prompt_ids = pipe.prepare_inputs(neg_prompts)\n",
    "# neg_prompt_ids = shard(neg_prompt_ids)\n",
    "\n",
    "# for u in generate(prompt_ids, neg_prompt_ids):\n",
    "#     display(u)"
   ]
  },
  {
   "cell_type": "code",
   "execution_count": 19,
   "metadata": {},
   "outputs": [],
   "source": [
    "prompt_embeds, pooled_embeds = jax.pmap(pipe.get_embeddings)(prompt_ids, p_params)"
   ]
  },
  {
   "cell_type": "code",
   "execution_count": 33,
   "metadata": {},
   "outputs": [],
   "source": [
    "height, width = 512, 512\n",
    "add_time_ids = pipe._get_add_time_ids(\n",
    "    (height, width), (0, 0), (height, width), 1, dtype=prompt_embeds.dtype\n",
    ")"
   ]
  },
  {
   "cell_type": "code",
   "execution_count": 35,
   "metadata": {},
   "outputs": [],
   "source": [
    "batch_size = prompt_embeds.shape[0]\n",
    "latents_shape = (\n",
    "    1,  # batch_size,\n",
    "    pipe.unet.config.in_channels,\n",
    "    height // pipe.vae_scale_factor,\n",
    "    width // pipe.vae_scale_factor,\n",
    ")\n",
    "latents = jax.pmap(lambda x: jax.random.normal(x, shape=latents_shape, dtype=jnp.float32))(rng)"
   ]
  },
  {
   "cell_type": "code",
   "execution_count": 47,
   "metadata": {},
   "outputs": [],
   "source": [
    "added_cond_kwargs = {\"text_embeds\": pooled_embeds, \"time_ids\": replicate(add_time_ids)}\n",
    "noise_pred = jax.pmap(pipe.unet.apply)(\n",
    "    {\"params\": p_params[\"unet\"]},\n",
    "    jnp.array(latents),\n",
    "    replicate(jnp.array([pipe.scheduler.config.num_train_timesteps - 1], dtype=jnp.int32)),\n",
    "    prompt_embeds,\n",
    "    added_cond_kwargs,\n",
    ").sample"
   ]
  },
  {
   "cell_type": "code",
   "execution_count": 58,
   "metadata": {},
   "outputs": [
    {
     "data": {
      "image/png": "[encoded data removed]",
      "text/plain": [
       "<Figure size 640x480 with 1 Axes>"
      ]
     },
     "metadata": {},
     "output_type": "display_data"
    }
   ],
   "source": [
    "from matplotlib import pyplot as plt\n",
    "plt.imshow((noise_pred - latents)[0, 0, 0])\n",
    "plt.show()"
   ]
  },
  {
   "cell_type": "code",
   "execution_count": null,
   "metadata": {},
   "outputs": [],
   "source": [
    "#  * scheduler_state.init_noise_sigma"
   ]
  },
  {
   "cell_type": "code",
   "execution_count": null,
   "metadata": {},
   "outputs": [
    {
     "name": "stdout",
     "output_type": "stream",
     "text": [
      "    def __call__(\n",
      "        self,\n",
      "        prompt_ids: jax.Array,\n",
      "        params: Union[Dict, FrozenDict],\n",
      "        prng_seed: jax.Array,\n",
      "        num_inference_steps: int = 50,\n",
      "        guidance_scale: Union[float, jax.Array] = 7.5,\n",
      "        height: Optional[int] = None,\n",
      "        width: Optional[int] = None,\n",
      "        latents: jnp.array = None,\n",
      "        neg_prompt_ids: jnp.array = None,\n",
      "        return_dict: bool = True,\n",
      "        output_type: str = None,\n",
      "        jit: bool = False,\n",
      "    ):\n",
      "        # 0. Default height and width to unet\n",
      "        height = height or self.unet.config.sample_size * self.vae_scale_factor\n",
      "        width = width or self.unet.config.sample_size * self.vae_scale_factor\n",
      "\n",
      "        if isinstance(guidance_scale, float) and jit:\n",
      "            # Convert to a tensor so each device gets a copy.\n",
      "            guidance_scale = jnp.array([guidance_scale] * prompt_ids.shape[0])\n",
      "            guidance_scale = guidance_scale[:, None]\n",
      "\n",
      "        return_latents = output_type == \"latent\"\n",
      "\n",
      "        if jit:\n",
      "            images = _p_generate(\n",
      "                self,\n",
      "                prompt_ids,\n",
      "                params,\n",
      "                prng_seed,\n",
      "                num_inference_steps,\n",
      "                height,\n",
      "                width,\n",
      "                guidance_scale,\n",
      "                latents,\n",
      "                neg_prompt_ids,\n",
      "                return_latents,\n",
      "            )\n",
      "        else:\n",
      "            images = self._generate(\n",
      "                prompt_ids,\n",
      "                params,\n",
      "                prng_seed,\n",
      "                num_inference_steps,\n",
      "                height,\n",
      "                width,\n",
      "                guidance_scale,\n",
      "                latents,\n",
      "                neg_prompt_ids,\n",
      "                return_latents,\n",
      "            )\n",
      "\n",
      "        if not return_dict:\n",
      "            return (images,)\n",
      "\n",
      "        return FlaxStableDiffusionXLPipelineOutput(images=images)\n",
      "\n"
     ]
    }
   ],
   "source": [
    "from inspect import getsource\n",
    "print(getsource(pipe.__call__))"
   ]
  }
 ],
 "metadata": {
  "kernelspec": {
   "display_name": "Python 3",
   "language": "python",
   "name": "python3"
  },
  "language_info": {
   "codemirror_mode": {
    "name": "ipython",
    "version": 3
   },
   "file_extension": ".py",
   "mimetype": "text/x-python",
   "name": "python",
   "nbconvert_exporter": "python",
   "pygments_lexer": "ipython3",
   "version": "3.12.0"
  }
 },
 "nbformat": 4,
 "nbformat_minor": 2
}
